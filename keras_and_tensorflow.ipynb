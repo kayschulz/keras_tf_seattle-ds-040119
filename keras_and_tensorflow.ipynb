{
 "cells": [
  {
   "cell_type": "markdown",
   "metadata": {},
   "source": [
    "# Neural Networks with keras and tensorflow\n",
    "\n",
    "N.B. You will need to pip install keras and tensorflow!"
   ]
  },
  {
   "cell_type": "code",
   "execution_count": 1,
   "metadata": {},
   "outputs": [],
   "source": [
    "from sklearn.datasets import load_breast_cancer\n",
    "from matplotlib import pyplot as plt\n",
    "import numpy as np\n",
    "from sklearn.model_selection import train_test_split\n",
    "from sklearn import metrics\n",
    "from sklearn.preprocessing import StandardScaler"
   ]
  },
  {
   "cell_type": "markdown",
   "metadata": {},
   "source": [
    "For this lesson we'll use sklearn's built-in breast cancer dataset. The next cell loads the data and prints the data description."
   ]
  },
  {
   "cell_type": "code",
   "execution_count": 2,
   "metadata": {},
   "outputs": [
    {
     "name": "stdout",
     "output_type": "stream",
     "text": [
      ".. _breast_cancer_dataset:\n",
      "\n",
      "Breast cancer wisconsin (diagnostic) dataset\n",
      "--------------------------------------------\n",
      "\n",
      "**Data Set Characteristics:**\n",
      "\n",
      "    :Number of Instances: 569\n",
      "\n",
      "    :Number of Attributes: 30 numeric, predictive attributes and the class\n",
      "\n",
      "    :Attribute Information:\n",
      "        - radius (mean of distances from center to points on the perimeter)\n",
      "        - texture (standard deviation of gray-scale values)\n",
      "        - perimeter\n",
      "        - area\n",
      "        - smoothness (local variation in radius lengths)\n",
      "        - compactness (perimeter^2 / area - 1.0)\n",
      "        - concavity (severity of concave portions of the contour)\n",
      "        - concave points (number of concave portions of the contour)\n",
      "        - symmetry \n",
      "        - fractal dimension (\"coastline approximation\" - 1)\n",
      "\n",
      "        The mean, standard error, and \"worst\" or largest (mean of the three\n",
      "        largest values) of these features were computed for each image,\n",
      "        resulting in 30 features.  For instance, field 3 is Mean Radius, field\n",
      "        13 is Radius SE, field 23 is Worst Radius.\n",
      "\n",
      "        - class:\n",
      "                - WDBC-Malignant\n",
      "                - WDBC-Benign\n",
      "\n",
      "    :Summary Statistics:\n",
      "\n",
      "    ===================================== ====== ======\n",
      "                                           Min    Max\n",
      "    ===================================== ====== ======\n",
      "    radius (mean):                        6.981  28.11\n",
      "    texture (mean):                       9.71   39.28\n",
      "    perimeter (mean):                     43.79  188.5\n",
      "    area (mean):                          143.5  2501.0\n",
      "    smoothness (mean):                    0.053  0.163\n",
      "    compactness (mean):                   0.019  0.345\n",
      "    concavity (mean):                     0.0    0.427\n",
      "    concave points (mean):                0.0    0.201\n",
      "    symmetry (mean):                      0.106  0.304\n",
      "    fractal dimension (mean):             0.05   0.097\n",
      "    radius (standard error):              0.112  2.873\n",
      "    texture (standard error):             0.36   4.885\n",
      "    perimeter (standard error):           0.757  21.98\n",
      "    area (standard error):                6.802  542.2\n",
      "    smoothness (standard error):          0.002  0.031\n",
      "    compactness (standard error):         0.002  0.135\n",
      "    concavity (standard error):           0.0    0.396\n",
      "    concave points (standard error):      0.0    0.053\n",
      "    symmetry (standard error):            0.008  0.079\n",
      "    fractal dimension (standard error):   0.001  0.03\n",
      "    radius (worst):                       7.93   36.04\n",
      "    texture (worst):                      12.02  49.54\n",
      "    perimeter (worst):                    50.41  251.2\n",
      "    area (worst):                         185.2  4254.0\n",
      "    smoothness (worst):                   0.071  0.223\n",
      "    compactness (worst):                  0.027  1.058\n",
      "    concavity (worst):                    0.0    1.252\n",
      "    concave points (worst):               0.0    0.291\n",
      "    symmetry (worst):                     0.156  0.664\n",
      "    fractal dimension (worst):            0.055  0.208\n",
      "    ===================================== ====== ======\n",
      "\n",
      "    :Missing Attribute Values: None\n",
      "\n",
      "    :Class Distribution: 212 - Malignant, 357 - Benign\n",
      "\n",
      "    :Creator:  Dr. William H. Wolberg, W. Nick Street, Olvi L. Mangasarian\n",
      "\n",
      "    :Donor: Nick Street\n",
      "\n",
      "    :Date: November, 1995\n",
      "\n",
      "This is a copy of UCI ML Breast Cancer Wisconsin (Diagnostic) datasets.\n",
      "https://goo.gl/U2Uwz2\n",
      "\n",
      "Features are computed from a digitized image of a fine needle\n",
      "aspirate (FNA) of a breast mass.  They describe\n",
      "characteristics of the cell nuclei present in the image.\n",
      "\n",
      "Separating plane described above was obtained using\n",
      "Multisurface Method-Tree (MSM-T) [K. P. Bennett, \"Decision Tree\n",
      "Construction Via Linear Programming.\" Proceedings of the 4th\n",
      "Midwest Artificial Intelligence and Cognitive Science Society,\n",
      "pp. 97-101, 1992], a classification method which uses linear\n",
      "programming to construct a decision tree.  Relevant features\n",
      "were selected using an exhaustive search in the space of 1-4\n",
      "features and 1-3 separating planes.\n",
      "\n",
      "The actual linear program used to obtain the separating plane\n",
      "in the 3-dimensional space is that described in:\n",
      "[K. P. Bennett and O. L. Mangasarian: \"Robust Linear\n",
      "Programming Discrimination of Two Linearly Inseparable Sets\",\n",
      "Optimization Methods and Software 1, 1992, 23-34].\n",
      "\n",
      "This database is also available through the UW CS ftp server:\n",
      "\n",
      "ftp ftp.cs.wisc.edu\n",
      "cd math-prog/cpo-dataset/machine-learn/WDBC/\n",
      "\n",
      ".. topic:: References\n",
      "\n",
      "   - W.N. Street, W.H. Wolberg and O.L. Mangasarian. Nuclear feature extraction \n",
      "     for breast tumor diagnosis. IS&T/SPIE 1993 International Symposium on \n",
      "     Electronic Imaging: Science and Technology, volume 1905, pages 861-870,\n",
      "     San Jose, CA, 1993.\n",
      "   - O.L. Mangasarian, W.N. Street and W.H. Wolberg. Breast cancer diagnosis and \n",
      "     prognosis via linear programming. Operations Research, 43(4), pages 570-577, \n",
      "     July-August 1995.\n",
      "   - W.H. Wolberg, W.N. Street, and O.L. Mangasarian. Machine learning techniques\n",
      "     to diagnose breast cancer from fine-needle aspirates. Cancer Letters 77 (1994) \n",
      "     163-171.\n"
     ]
    }
   ],
   "source": [
    "data = load_breast_cancer()\n",
    "print(data.DESCR)"
   ]
  },
  {
   "cell_type": "code",
   "execution_count": 3,
   "metadata": {},
   "outputs": [],
   "source": [
    "# Splitting our data and initializing a Scaler\n",
    "X_train, X_test, y_train, y_test = train_test_split(data.data, data.target, random_state=42)"
   ]
  },
  {
   "cell_type": "code",
   "execution_count": 4,
   "metadata": {},
   "outputs": [],
   "source": [
    "ss = StandardScaler()\n",
    "ss.fit(X_train)\n",
    "\n",
    "X_train_s = ss.transform(X_train)\n",
    "X_test_s = ss.transform(X_test)"
   ]
  },
  {
   "cell_type": "code",
   "execution_count": 5,
   "metadata": {},
   "outputs": [
    {
     "data": {
      "text/plain": [
       "((426, 30), (143, 30))"
      ]
     },
     "execution_count": 5,
     "metadata": {},
     "output_type": "execute_result"
    }
   ],
   "source": [
    "X_train_s.shape, X_test_s.shape"
   ]
  },
  {
   "cell_type": "markdown",
   "metadata": {},
   "source": [
    "## Constructing a Neural Network in Keras"
   ]
  },
  {
   "cell_type": "code",
   "execution_count": 6,
   "metadata": {},
   "outputs": [
    {
     "name": "stderr",
     "output_type": "stream",
     "text": [
      "Using TensorFlow backend.\n"
     ]
    }
   ],
   "source": [
    "# Importing model and layer types\n",
    "\n",
    "from keras.models import Sequential\n",
    "from keras.layers import Dense"
   ]
  },
  {
   "cell_type": "code",
   "execution_count": 7,
   "metadata": {},
   "outputs": [],
   "source": [
    "# import optimizer\n",
    "\n",
    "from keras.optimizers import Adam"
   ]
  },
  {
   "cell_type": "code",
   "execution_count": 8,
   "metadata": {},
   "outputs": [],
   "source": [
    "# initialize model\n",
    "model = Sequential()\n",
    "\n",
    "# how many input neurons do you want\n",
    "inputs = X_train_s.shape[1]\n",
    "\n",
    "# how many hidden neurons in the hidden layer\n",
    "hiddens = inputs\n",
    "\n",
    "# input to hidden\n",
    "model.add(Dense(hiddens, activation='relu', input_dim=inputs))\n",
    "\n",
    "# hidden to output\n",
    "model.add(Dense(1))\n",
    "\n",
    "# initialize optimizer\n",
    "adam = Adam()\n",
    "\n",
    "# compile the model\n",
    "model.compile(optimizer=adam, loss='mean_squared_error')"
   ]
  },
  {
   "cell_type": "code",
   "execution_count": 9,
   "metadata": {},
   "outputs": [
    {
     "name": "stdout",
     "output_type": "stream",
     "text": [
      "Train on 426 samples, validate on 143 samples\n",
      "Epoch 1/100\n",
      "426/426 [==============================] - 0s 336us/step - loss: 0.5744 - val_loss: 0.5272\n",
      "Epoch 2/100\n",
      "426/426 [==============================] - 0s 56us/step - loss: 0.3450 - val_loss: 0.3422\n",
      "Epoch 3/100\n",
      "426/426 [==============================] - 0s 47us/step - loss: 0.2472 - val_loss: 0.2634\n",
      "Epoch 4/100\n",
      "426/426 [==============================] - 0s 54us/step - loss: 0.1896 - val_loss: 0.2180\n",
      "Epoch 5/100\n",
      "426/426 [==============================] - 0s 55us/step - loss: 0.1571 - val_loss: 0.1885\n",
      "Epoch 6/100\n",
      "426/426 [==============================] - 0s 49us/step - loss: 0.1360 - val_loss: 0.1654\n",
      "Epoch 7/100\n",
      "426/426 [==============================] - 0s 50us/step - loss: 0.1210 - val_loss: 0.1524\n",
      "Epoch 8/100\n",
      "426/426 [==============================] - 0s 52us/step - loss: 0.1084 - val_loss: 0.1387\n",
      "Epoch 9/100\n",
      "426/426 [==============================] - 0s 46us/step - loss: 0.0985 - val_loss: 0.1284\n",
      "Epoch 10/100\n",
      "426/426 [==============================] - 0s 50us/step - loss: 0.0911 - val_loss: 0.1234\n",
      "Epoch 11/100\n",
      "426/426 [==============================] - 0s 57us/step - loss: 0.0855 - val_loss: 0.1141\n",
      "Epoch 12/100\n",
      "426/426 [==============================] - 0s 53us/step - loss: 0.0809 - val_loss: 0.1086\n",
      "Epoch 13/100\n",
      "426/426 [==============================] - 0s 48us/step - loss: 0.0759 - val_loss: 0.1026\n",
      "Epoch 14/100\n",
      "426/426 [==============================] - 0s 51us/step - loss: 0.0732 - val_loss: 0.1009\n",
      "Epoch 15/100\n",
      "426/426 [==============================] - 0s 45us/step - loss: 0.0695 - val_loss: 0.0953\n",
      "Epoch 16/100\n",
      "426/426 [==============================] - 0s 52us/step - loss: 0.0671 - val_loss: 0.0919\n",
      "Epoch 17/100\n",
      "426/426 [==============================] - 0s 47us/step - loss: 0.0654 - val_loss: 0.0900\n",
      "Epoch 18/100\n",
      "426/426 [==============================] - 0s 57us/step - loss: 0.0624 - val_loss: 0.0871\n",
      "Epoch 19/100\n",
      "426/426 [==============================] - 0s 58us/step - loss: 0.0604 - val_loss: 0.0830\n",
      "Epoch 20/100\n",
      "426/426 [==============================] - 0s 60us/step - loss: 0.0585 - val_loss: 0.0855\n",
      "Epoch 21/100\n",
      "426/426 [==============================] - 0s 51us/step - loss: 0.0570 - val_loss: 0.0803\n",
      "Epoch 22/100\n",
      "426/426 [==============================] - 0s 57us/step - loss: 0.0540 - val_loss: 0.0788\n",
      "Epoch 23/100\n",
      "426/426 [==============================] - 0s 57us/step - loss: 0.0536 - val_loss: 0.0804\n",
      "Epoch 24/100\n",
      "426/426 [==============================] - 0s 58us/step - loss: 0.0502 - val_loss: 0.0752\n",
      "Epoch 25/100\n",
      "426/426 [==============================] - 0s 58us/step - loss: 0.0494 - val_loss: 0.0740\n",
      "Epoch 26/100\n",
      "426/426 [==============================] - 0s 55us/step - loss: 0.0477 - val_loss: 0.0749\n",
      "Epoch 27/100\n",
      "426/426 [==============================] - 0s 61us/step - loss: 0.0465 - val_loss: 0.0723\n",
      "Epoch 28/100\n",
      "426/426 [==============================] - 0s 52us/step - loss: 0.0454 - val_loss: 0.0710\n",
      "Epoch 29/100\n",
      "426/426 [==============================] - 0s 60us/step - loss: 0.0452 - val_loss: 0.0707\n",
      "Epoch 30/100\n",
      "426/426 [==============================] - 0s 53us/step - loss: 0.0431 - val_loss: 0.0688\n",
      "Epoch 31/100\n",
      "426/426 [==============================] - 0s 56us/step - loss: 0.0424 - val_loss: 0.0683\n",
      "Epoch 32/100\n",
      "426/426 [==============================] - 0s 56us/step - loss: 0.0419 - val_loss: 0.0684\n",
      "Epoch 33/100\n",
      "426/426 [==============================] - 0s 65us/step - loss: 0.0404 - val_loss: 0.0654\n",
      "Epoch 34/100\n",
      "426/426 [==============================] - 0s 53us/step - loss: 0.0394 - val_loss: 0.0682\n",
      "Epoch 35/100\n",
      "426/426 [==============================] - 0s 56us/step - loss: 0.0390 - val_loss: 0.0679\n",
      "Epoch 36/100\n",
      "426/426 [==============================] - 0s 58us/step - loss: 0.0385 - val_loss: 0.0645\n",
      "Epoch 37/100\n",
      "426/426 [==============================] - 0s 58us/step - loss: 0.0372 - val_loss: 0.0693\n",
      "Epoch 38/100\n",
      "426/426 [==============================] - 0s 52us/step - loss: 0.0372 - val_loss: 0.0646\n",
      "Epoch 39/100\n",
      "426/426 [==============================] - 0s 55us/step - loss: 0.0370 - val_loss: 0.0640\n",
      "Epoch 40/100\n",
      "426/426 [==============================] - 0s 52us/step - loss: 0.0354 - val_loss: 0.0656\n",
      "Epoch 41/100\n",
      "426/426 [==============================] - 0s 54us/step - loss: 0.0345 - val_loss: 0.0655\n",
      "Epoch 42/100\n",
      "426/426 [==============================] - 0s 56us/step - loss: 0.0343 - val_loss: 0.0641\n",
      "Epoch 43/100\n",
      "426/426 [==============================] - 0s 49us/step - loss: 0.0341 - val_loss: 0.0648\n",
      "Epoch 44/100\n",
      "426/426 [==============================] - 0s 56us/step - loss: 0.0332 - val_loss: 0.0627\n",
      "Epoch 45/100\n",
      "426/426 [==============================] - 0s 49us/step - loss: 0.0328 - val_loss: 0.0639\n",
      "Epoch 46/100\n",
      "426/426 [==============================] - 0s 49us/step - loss: 0.0320 - val_loss: 0.0646\n",
      "Epoch 47/100\n",
      "426/426 [==============================] - 0s 50us/step - loss: 0.0316 - val_loss: 0.0633\n",
      "Epoch 48/100\n",
      "426/426 [==============================] - 0s 51us/step - loss: 0.0319 - val_loss: 0.0641\n",
      "Epoch 49/100\n",
      "426/426 [==============================] - 0s 54us/step - loss: 0.0316 - val_loss: 0.0644\n",
      "Epoch 50/100\n",
      "426/426 [==============================] - 0s 53us/step - loss: 0.0307 - val_loss: 0.0624\n",
      "Epoch 51/100\n",
      "426/426 [==============================] - 0s 51us/step - loss: 0.0298 - val_loss: 0.0644\n",
      "Epoch 52/100\n",
      "426/426 [==============================] - 0s 58us/step - loss: 0.0292 - val_loss: 0.0626\n",
      "Epoch 53/100\n",
      "426/426 [==============================] - 0s 51us/step - loss: 0.0293 - val_loss: 0.0635\n",
      "Epoch 54/100\n",
      "426/426 [==============================] - 0s 48us/step - loss: 0.0292 - val_loss: 0.0659\n",
      "Epoch 55/100\n",
      "426/426 [==============================] - 0s 52us/step - loss: 0.0281 - val_loss: 0.0610\n",
      "Epoch 56/100\n",
      "426/426 [==============================] - 0s 54us/step - loss: 0.0276 - val_loss: 0.0643\n",
      "Epoch 57/100\n",
      "426/426 [==============================] - 0s 57us/step - loss: 0.0278 - val_loss: 0.0639\n",
      "Epoch 58/100\n",
      "426/426 [==============================] - 0s 50us/step - loss: 0.0272 - val_loss: 0.0616\n",
      "Epoch 59/100\n",
      "426/426 [==============================] - 0s 48us/step - loss: 0.0273 - val_loss: 0.0634\n",
      "Epoch 60/100\n",
      "426/426 [==============================] - 0s 50us/step - loss: 0.0265 - val_loss: 0.0646\n",
      "Epoch 61/100\n",
      "426/426 [==============================] - 0s 51us/step - loss: 0.0269 - val_loss: 0.0611\n",
      "Epoch 62/100\n",
      "426/426 [==============================] - 0s 52us/step - loss: 0.0259 - val_loss: 0.0623\n",
      "Epoch 63/100\n",
      "426/426 [==============================] - 0s 56us/step - loss: 0.0253 - val_loss: 0.0634\n",
      "Epoch 64/100\n",
      "426/426 [==============================] - 0s 51us/step - loss: 0.0253 - val_loss: 0.0626\n",
      "Epoch 65/100\n",
      "426/426 [==============================] - 0s 53us/step - loss: 0.0249 - val_loss: 0.0627\n",
      "Epoch 66/100\n",
      "426/426 [==============================] - 0s 56us/step - loss: 0.0244 - val_loss: 0.0624\n",
      "Epoch 67/100\n",
      "426/426 [==============================] - 0s 55us/step - loss: 0.0243 - val_loss: 0.0618\n",
      "Epoch 68/100\n",
      "426/426 [==============================] - 0s 53us/step - loss: 0.0241 - val_loss: 0.0625\n",
      "Epoch 69/100\n",
      "426/426 [==============================] - 0s 53us/step - loss: 0.0239 - val_loss: 0.0621\n",
      "Epoch 70/100\n",
      "426/426 [==============================] - 0s 57us/step - loss: 0.0237 - val_loss: 0.0616\n",
      "Epoch 71/100\n",
      "426/426 [==============================] - 0s 54us/step - loss: 0.0232 - val_loss: 0.0640\n",
      "Epoch 72/100\n",
      "426/426 [==============================] - 0s 58us/step - loss: 0.0229 - val_loss: 0.0611\n",
      "Epoch 73/100\n",
      "426/426 [==============================] - 0s 53us/step - loss: 0.0232 - val_loss: 0.0631\n",
      "Epoch 74/100\n",
      "426/426 [==============================] - 0s 51us/step - loss: 0.0229 - val_loss: 0.0632\n",
      "Epoch 75/100\n",
      "426/426 [==============================] - 0s 47us/step - loss: 0.0221 - val_loss: 0.0626\n",
      "Epoch 76/100\n",
      "426/426 [==============================] - 0s 47us/step - loss: 0.0216 - val_loss: 0.0611\n",
      "Epoch 77/100\n",
      "426/426 [==============================] - 0s 49us/step - loss: 0.0215 - val_loss: 0.0646\n",
      "Epoch 78/100\n",
      "426/426 [==============================] - 0s 46us/step - loss: 0.0212 - val_loss: 0.0630\n",
      "Epoch 79/100\n",
      "426/426 [==============================] - 0s 47us/step - loss: 0.0211 - val_loss: 0.0612\n",
      "Epoch 80/100\n"
     ]
    },
    {
     "name": "stdout",
     "output_type": "stream",
     "text": [
      "426/426 [==============================] - 0s 49us/step - loss: 0.0213 - val_loss: 0.0645\n",
      "Epoch 81/100\n",
      "426/426 [==============================] - 0s 48us/step - loss: 0.0204 - val_loss: 0.0618\n",
      "Epoch 82/100\n",
      "426/426 [==============================] - 0s 45us/step - loss: 0.0206 - val_loss: 0.0609\n",
      "Epoch 83/100\n",
      "426/426 [==============================] - 0s 47us/step - loss: 0.0200 - val_loss: 0.0634\n",
      "Epoch 84/100\n",
      "426/426 [==============================] - 0s 46us/step - loss: 0.0201 - val_loss: 0.0631\n",
      "Epoch 85/100\n",
      "426/426 [==============================] - 0s 47us/step - loss: 0.0195 - val_loss: 0.0647\n",
      "Epoch 86/100\n",
      "426/426 [==============================] - 0s 47us/step - loss: 0.0197 - val_loss: 0.0633\n",
      "Epoch 87/100\n",
      "426/426 [==============================] - 0s 47us/step - loss: 0.0192 - val_loss: 0.0637\n",
      "Epoch 88/100\n",
      "426/426 [==============================] - 0s 45us/step - loss: 0.0196 - val_loss: 0.0628\n",
      "Epoch 89/100\n",
      "426/426 [==============================] - 0s 47us/step - loss: 0.0194 - val_loss: 0.0634\n",
      "Epoch 90/100\n",
      "426/426 [==============================] - 0s 47us/step - loss: 0.0194 - val_loss: 0.0643\n",
      "Epoch 91/100\n",
      "426/426 [==============================] - 0s 50us/step - loss: 0.0189 - val_loss: 0.0619\n",
      "Epoch 92/100\n",
      "426/426 [==============================] - 0s 46us/step - loss: 0.0185 - val_loss: 0.0628\n",
      "Epoch 93/100\n",
      "426/426 [==============================] - 0s 51us/step - loss: 0.0183 - val_loss: 0.0628\n",
      "Epoch 94/100\n",
      "426/426 [==============================] - 0s 51us/step - loss: 0.0181 - val_loss: 0.0645\n",
      "Epoch 95/100\n",
      "426/426 [==============================] - 0s 48us/step - loss: 0.0182 - val_loss: 0.0615\n",
      "Epoch 96/100\n",
      "426/426 [==============================] - 0s 47us/step - loss: 0.0180 - val_loss: 0.0631\n",
      "Epoch 97/100\n",
      "426/426 [==============================] - 0s 50us/step - loss: 0.0175 - val_loss: 0.0619\n",
      "Epoch 98/100\n",
      "426/426 [==============================] - 0s 49us/step - loss: 0.0176 - val_loss: 0.0639\n",
      "Epoch 99/100\n",
      "426/426 [==============================] - 0s 47us/step - loss: 0.0181 - val_loss: 0.0656\n",
      "Epoch 100/100\n",
      "426/426 [==============================] - 0s 49us/step - loss: 0.0179 - val_loss: 0.0628\n"
     ]
    }
   ],
   "source": [
    "# Fitting our model\n",
    "history = model.fit(X_train_s, y_train, validation_data=(X_test_s, y_test), epochs=100)"
   ]
  },
  {
   "cell_type": "code",
   "execution_count": 10,
   "metadata": {},
   "outputs": [
    {
     "data": {
      "text/plain": [
       "<matplotlib.legend.Legend at 0x1a2b5f9278>"
      ]
     },
     "execution_count": 10,
     "metadata": {},
     "output_type": "execute_result"
    },
    {
     "data": {
      "image/png": "[encoded data removed]",
      "text/plain": [
       "<Figure size 432x288 with 1 Axes>"
      ]
     },
     "metadata": {
      "needs_background": "light"
     },
     "output_type": "display_data"
    }
   ],
   "source": [
    "# Plotting our losses\n",
    "%matplotlib inline\n",
    "\n",
    "train_loss = history.history['loss']\n",
    "test_loss = history.history['val_loss']\n",
    "plt.plot(train_loss, label='train_loss')\n",
    "plt.plot(test_loss, label='test_loss')\n",
    "\n",
    "plt.legend()"
   ]
  },
  {
   "cell_type": "markdown",
   "metadata": {},
   "source": [
    "## Tensorflow"
   ]
  },
  {
   "cell_type": "code",
   "execution_count": 11,
   "metadata": {},
   "outputs": [],
   "source": [
    "import tensorflow as tf"
   ]
  },
  {
   "cell_type": "markdown",
   "metadata": {},
   "source": [
    "### Tensorflow as a graph constructor"
   ]
  },
  {
   "cell_type": "code",
   "execution_count": 16,
   "metadata": {},
   "outputs": [],
   "source": [
    "# Constructing the graph\n",
    "\n",
    "a = tf.Variable(4)\n",
    "b = tf.Variable(5)\n",
    "\n",
    "c = a + b\n",
    "d = a + c * b"
   ]
  },
  {
   "cell_type": "code",
   "execution_count": 17,
   "metadata": {},
   "outputs": [],
   "source": [
    "# Starting a session\n",
    "\n",
    "init = tf.global_variables_initializer()\n",
    "\n",
    "with tf.Session() as sess:\n",
    "    init.run()\n",
    "    result = sess.run(d)"
   ]
  },
  {
   "cell_type": "code",
   "execution_count": 18,
   "metadata": {},
   "outputs": [
    {
     "name": "stdout",
     "output_type": "stream",
     "text": [
      "49\n"
     ]
    }
   ],
   "source": [
    "# Printing the output\n",
    "\n",
    "print(result)"
   ]
  },
  {
   "cell_type": "markdown",
   "metadata": {},
   "source": [
    "### Neural Network"
   ]
  },
  {
   "cell_type": "code",
   "execution_count": 19,
   "metadata": {},
   "outputs": [
    {
     "data": {
      "text/plain": [
       "(426, 30)"
      ]
     },
     "execution_count": 19,
     "metadata": {},
     "output_type": "execute_result"
    }
   ],
   "source": [
    "X_train_s.shape"
   ]
  },
  {
   "cell_type": "code",
   "execution_count": 20,
   "metadata": {},
   "outputs": [],
   "source": [
    "tf.reset_default_graph()\n",
    "\n",
    "X = tf.placeholder(dtype=tf.float32, shape=(None, 30))\n",
    "y = tf.placeholder(dtype=tf.float32, shape=(None, 1))\n",
    "\n",
    "hid = tf.layers.dense(X, 30, activation=tf.nn.relu)\n",
    "y_hat = tf.layers.dense(hid, 1, activation=tf.nn.sigmoid)\n",
    "\n",
    "loss = tf.losses.log_loss(y, y_hat)\n",
    "optimizer = tf.train.AdamOptimizer(0.01)\n",
    "training_run = optimizer.minimize(loss)\n",
    "\n",
    "saver = tf.train.Saver()"
   ]
  },
  {
   "cell_type": "code",
   "execution_count": 22,
   "metadata": {},
   "outputs": [
    {
     "data": {
      "text/plain": [
       "0.3776223776223776"
      ]
     },
     "execution_count": 22,
     "metadata": {},
     "output_type": "execute_result"
    }
   ],
   "source": [
    "init = tf.global_variables_initializer()\n",
    "\n",
    "with tf.Session() as sess:\n",
    "    init.run()\n",
    "    \n",
    "    for _ in range(100):\n",
    "        sess.run(training_run, feed_dict={X: X_train_s, y: y_train.reshape(-1, 1)})\n",
    "        \n",
    "    pred = sess.run(y_hat, feed_dict={X: X_test})\n",
    "\n",
    "classes = (pred > 0.5).astype(int)\n",
    "\n",
    "metrics.accuracy_score(y_test.reshape(-1, 1), classes)"
   ]
  },
  {
   "cell_type": "code",
   "execution_count": 23,
   "metadata": {},
   "outputs": [
    {
     "data": {
      "text/plain": [
       "array([0, 0, 0, 0, 0, 0, 0, 0, 0, 0, 0, 0, 0, 0, 0, 0, 0, 0, 0, 1, 1, 1,\n",
       "       0, 0, 0, 0, 0, 0, 0, 0, 0, 0, 0, 0, 0, 0, 0, 1, 0, 0, 0, 0, 0, 0,\n",
       "       0, 0, 1, 0, 1, 1, 1, 1, 1, 0, 0, 1, 0, 0, 1, 1, 1, 1, 0, 1, 0, 0,\n",
       "       1, 1, 1, 1, 0, 1, 0, 0, 1, 0, 1, 0, 0, 1, 1, 1, 0, 0, 1, 0, 0, 0,\n",
       "       1, 1, 1, 0, 1, 1, 0, 0, 1, 1, 1, 0, 0, 1, 1, 1, 1, 0, 1, 1, 0, 1,\n",
       "       1, 1, 1, 1, 1, 1, 1, 0, 0, 0, 1, 0, 0, 1, 1, 1, 0, 0, 1, 0, 1, 0,\n",
       "       0, 1, 0, 0, 1, 1, 0, 1, 1, 0, 1, 1, 1, 1, 0, 1, 1, 1, 1, 1, 1, 1,\n",
       "       1, 1, 0, 1, 1, 1, 1, 0, 0, 1, 0, 1, 1, 0, 0, 1, 1, 0, 0, 1, 1, 1,\n",
       "       1, 0, 1, 1, 0, 0, 0, 1, 0, 1, 0, 1, 1, 1, 0, 1, 1, 0, 0, 1, 0, 0,\n",
       "       0, 0, 1, 0, 0, 0, 1, 0, 1, 0, 1, 1, 0, 1, 0, 0, 0, 0, 1, 1, 0, 0,\n",
       "       1, 1, 1, 0, 1, 1, 1, 1, 1, 0, 0, 1, 1, 0, 1, 1, 0, 0, 1, 0, 1, 1,\n",
       "       1, 1, 0, 1, 1, 1, 1, 1, 0, 1, 0, 0, 0, 0, 0, 0, 0, 0, 0, 0, 0, 0,\n",
       "       0, 0, 1, 1, 1, 1, 1, 1, 0, 1, 0, 1, 1, 0, 1, 1, 0, 1, 0, 0, 1, 1,\n",
       "       1, 1, 1, 1, 1, 1, 1, 1, 1, 1, 1, 0, 1, 1, 0, 1, 0, 1, 1, 1, 1, 1,\n",
       "       1, 1, 1, 1, 1, 1, 1, 1, 1, 0, 1, 1, 1, 0, 1, 0, 1, 1, 1, 1, 0, 0,\n",
       "       0, 1, 1, 1, 1, 0, 1, 0, 1, 0, 1, 1, 1, 0, 1, 1, 1, 1, 1, 1, 1, 0,\n",
       "       0, 0, 1, 1, 1, 1, 1, 1, 1, 1, 1, 1, 1, 0, 0, 1, 0, 0, 0, 1, 0, 0,\n",
       "       1, 1, 1, 1, 1, 0, 1, 1, 1, 1, 1, 0, 1, 1, 1, 0, 1, 1, 0, 0, 1, 1,\n",
       "       1, 1, 1, 1, 0, 1, 1, 1, 1, 1, 1, 1, 0, 1, 1, 1, 1, 1, 0, 1, 1, 0,\n",
       "       1, 1, 1, 1, 1, 1, 1, 1, 1, 1, 1, 1, 0, 1, 0, 0, 1, 0, 1, 1, 1, 1,\n",
       "       1, 0, 1, 1, 0, 1, 0, 1, 1, 0, 1, 0, 1, 1, 1, 1, 1, 1, 1, 1, 0, 0,\n",
       "       1, 1, 1, 1, 1, 1, 0, 1, 1, 1, 1, 1, 1, 1, 1, 1, 1, 0, 1, 1, 1, 1,\n",
       "       1, 1, 1, 0, 1, 0, 1, 1, 0, 1, 1, 1, 1, 1, 0, 0, 1, 0, 1, 0, 1, 1,\n",
       "       1, 1, 1, 0, 1, 1, 0, 1, 0, 1, 0, 0, 1, 1, 1, 0, 1, 1, 1, 1, 1, 1,\n",
       "       1, 1, 1, 1, 1, 0, 1, 0, 0, 1, 1, 1, 1, 1, 1, 1, 1, 1, 1, 1, 1, 1,\n",
       "       1, 1, 1, 1, 1, 1, 1, 1, 1, 1, 1, 1, 0, 0, 0, 0, 0, 0, 1])"
      ]
     },
     "execution_count": 23,
     "metadata": {},
     "output_type": "execute_result"
    }
   ],
   "source": []
  },
  {
   "cell_type": "code",
   "execution_count": null,
   "metadata": {},
   "outputs": [],
   "source": []
  }
 ],
 "metadata": {
  "kernelspec": {
   "display_name": "Python 3",
   "language": "python",
   "name": "python3"
  },
  "language_info": {
   "codemirror_mode": {
    "name": "ipython",
    "version": 3
   },
   "file_extension": ".py",
   "mimetype": "text/x-python",
   "name": "python",
   "nbconvert_exporter": "python",
   "pygments_lexer": "ipython3",
   "version": "3.6.6"
  }
 },
 "nbformat": 4,
 "nbformat_minor": 2
}
